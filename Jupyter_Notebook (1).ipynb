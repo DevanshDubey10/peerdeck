{
 "cells": [
  {
   "cell_type": "markdown",
   "metadata": {},
   "source": [
    "<center>\n",
    "    <img src=\"https://cf-courses-data.s3.us.cloud-object-storage.appdomain.cloud/IBMDeveloperSkillsNetwork-DS0105EN-SkillsNetwork/labs/Module2/images/SN_web_lightmode.png\" width=\"300\" alt=\"cognitiveclass.ai logo\"  />\n",
    "</center>\n"
   ]
  },
  {
   "cell_type": "markdown",
   "metadata": {
    "tags": []
   },
   "source": [
    "#### Add your code below following the instructions given in the course\n"
   ]
  },
  {
   "cell_type": "markdown",
   "metadata": {},
   "source": [
    "<h1> My Jupyter Notebook on IBM Watson Studio </h1>\n"
   ]
  },
  {
   "cell_type": "markdown",
   "metadata": {},
   "source": [
    "<p>DEVANSH DUBEY </p> <b> \n",
    "<p> Data Scientist</p>\n",
    "    \n",
    "    "
   ]
  },
  {
   "cell_type": "markdown",
   "metadata": {},
   "source": [
    "<P> 𝘐 𝘢𝘮 𝘪𝘯𝘵𝘦𝘳𝘦𝘴𝘵𝘦𝘥 𝘪𝘯 𝘥𝘢𝘵𝘢 𝘴𝘤𝘪𝘦𝘯𝘤𝘦 𝘣𝘦𝘤𝘢𝘶𝘴𝘦 𝘋𝘢𝘵𝘢 𝘴𝘤𝘪𝘦𝘯𝘵𝘪𝘴𝘵𝘴 𝘱𝘰𝘴𝘴𝘦𝘴𝘴 𝘢 𝘷𝘢𝘳𝘪𝘦𝘵𝘺 𝘰𝘧 𝘴𝘬𝘪𝘭𝘭 𝘴𝘦𝘵𝘴 𝘵𝘩𝘢𝘵 𝘤𝘢𝘯 𝘭𝘦𝘷𝘦𝘳𝘢𝘨𝘦 𝘥𝘢𝘵𝘢 𝘢𝘯𝘥 𝘪𝘯𝘧𝘰𝘳𝘮𝘢𝘵𝘪𝘰𝘯. 𝘛𝘩𝘢𝘵 𝘧𝘶𝘳𝘵𝘩𝘦𝘳 𝘩𝘦𝘭𝘱𝘴 𝘤𝘰𝘮𝘱𝘢𝘯𝘪𝘦𝘴 𝘵𝘰 𝘮𝘢𝘬𝘦 𝘣𝘦𝘵𝘵𝘦𝘳 𝘴𝘵𝘳𝘢𝘵𝘦𝘨𝘪𝘤 𝘥𝘦𝘤𝘪𝘴𝘪𝘰𝘯𝘴</P>\n",
    "\n"
   ]
  },
  {
   "cell_type": "markdown",
   "metadata": {},
   "source": [
    "<h3> my code will just add two numerical values </h3>"
   ]
  },
  {
   "cell_type": "code",
   "execution_count": 3,
   "metadata": {},
   "outputs": [
    {
     "name": "stdout",
     "output_type": "stream",
     "text": [
      "7\n"
     ]
    }
   ],
   "source": [
    "print(2+5)"
   ]
  },
  {
   "cell_type": "markdown",
   "metadata": {},
   "source": []
  }
 ],
 "metadata": {
  "kernelspec": {
   "display_name": "Python",
   "language": "python",
   "name": "conda-env-python-py"
  },
  "language_info": {
   "codemirror_mode": {
    "name": "ipython",
    "version": 3
   },
   "file_extension": ".py",
   "mimetype": "text/x-python",
   "name": "python",
   "nbconvert_exporter": "python",
   "pygments_lexer": "ipython3",
   "version": "3.7.12"
  }
 },
 "nbformat": 4,
 "nbformat_minor": 4
}
